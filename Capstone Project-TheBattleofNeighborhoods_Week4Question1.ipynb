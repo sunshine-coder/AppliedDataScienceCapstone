{
 "cells": [
  {
   "cell_type": "markdown",
   "metadata": {},
   "source": [
    "<h1>Coursera Capstone Project</h1>\n",
    "<h1>The Battle of Neighborhoods (Week 4)</h1>"
   ]
  },
  {
   "cell_type": "markdown",
   "metadata": {},
   "source": [
    "<h1><b>Introduction/Business Problem<b></h1>"
   ]
  },
  {
   "cell_type": "markdown",
   "metadata": {},
   "source": [
    "<h3>Question 1 - To Do</h3>\n",
    "<p>Clearly define a problem or an idea of your choice, where you would need to leverage the Foursquare location data to solve or execute. \n",
    "Remember that data science problems always target an audience and are meant to help a group of stakeholders solve a problem, so make sure \n",
    "that you explicitly describe your audience and why they would care about your problem.</p>"
   ]
  },
  {
   "cell_type": "code",
   "execution_count": 2,
   "metadata": {},
   "outputs": [],
   "source": [
    "# A description of the problem and a discussion of the background. (15 marks)"
   ]
  },
  {
   "cell_type": "markdown",
   "metadata": {},
   "source": [
    "<h2><b>1. Introduction Section</b></h2>\n",
    "<h3><b>Discussion of the business problem and relevance of the project.</b></h3>"
   ]
  },
  {
   "cell_type": "markdown",
   "metadata": {},
   "source": [
    "<h3><b>Background</b></h3\n",
    "<p>I am a Software developer and was working in Maryland. But I recently got married and have to move to Miami,Florida.I want to\n",
    "I used to live in Owings Mills, Maryland with walking distance to the Grand Junction Metro Station with great connectivity to Baltimore Downtown \n",
    "as well as Washington, D.C., all shopping stores, groceries and pharmacy was nearby to my apartment. But since I am moving to Florida I want to use\n",
    "the skills learned during IBM Data Science Specialization course to help me find a suitable apartment that meets the price range along with good locality \n",
    "which should be connected easily to public transport such as metros and buses and have groceries stores and good restaurants nearby. I can use apartment\n",
    "and renting websites to help me with my situation but I want to apply my learning and utilize the tools I used to help solve the problem.\n",
    "To help solve the problem, I will evaluate and compare the apartments available for renting in Miami, Florida and they should meet the following measures: </p>"
   ]
  },
  {
   "cell_type": "markdown",
   "metadata": {},
   "source": [
    "<div class=\"alert alert-block alert-info\" style=\"margin-top: 20px\">\n",
    "    <ul>\n",
    "        <li>\n",
    "            Apartment must be 2 bedrooms.\n",
    "        </li>\n",
    "        <li>\n",
    "           Desired location is near a metro station in the Manhattan area and within (1.5 km) radius or less than 30 minutes walking distance.\n",
    "        </li>\n",
    "        <li>\n",
    "            Price of rent not exceed $2,000 per month.\n",
    "        </li>\n",
    "        <li>\n",
    "            Amenities in the selected neighborhood shall be similar to my current residence.\n",
    "        </li>\n",
    "        <li>\n",
    "            Desirable to have venues such as coffee shops,good Restaurants,Gym and Grocery stores nearby.\n",
    "        </li>\n",
    "        <li>\n",
    "            As a reference, I have included a map of venues near current residence in Maryland.\n",
    "        </li>\n",
    "    </ul>\n",
    "</div>"
   ]
  },
  {
   "cell_type": "markdown",
   "metadata": {},
   "source": [
    "<h3><b>Business Problem</b></h3>\n",
    "<p>The challenge is to find a suitable apartment for rent in Miami, Florida that meets with the demands of appropriate location, price and venues.\n",
    "The data required to resolve this challenge is described in section 2.</p>"
   ]
  },
  {
   "cell_type": "markdown",
   "metadata": {},
   "source": [
    "<h3><b>Purpose of Project</b></h3>\n",
    "<p>This information will be helpful for someone moving to a new city and will help them to find a good apartment, as the \n",
    "basic questions for renting a reasonable apartment in a city are being answered.\n",
    "It will also help individuals interested in exploring coffee shops and restaurants in any city. \n",
    "Lastly, it is serving the purpose of helping me improve my Data Science skills as I can apply in this project.</p>"
   ]
  },
  {
   "cell_type": "code",
   "execution_count": null,
   "metadata": {},
   "outputs": [],
   "source": []
  }
 ],
 "metadata": {
  "kernelspec": {
   "display_name": "Python",
   "language": "python",
   "name": "conda-env-python-py"
  },
  "language_info": {
   "codemirror_mode": {
    "name": "ipython",
    "version": 3
   },
   "file_extension": ".py",
   "mimetype": "text/x-python",
   "name": "python",
   "nbconvert_exporter": "python",
   "pygments_lexer": "ipython3",
   "version": "3.6.10"
  }
 },
 "nbformat": 4,
 "nbformat_minor": 4
}
