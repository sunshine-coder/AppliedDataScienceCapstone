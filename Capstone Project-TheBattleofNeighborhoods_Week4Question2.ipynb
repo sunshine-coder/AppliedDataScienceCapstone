{
 "cells": [
  {
   "cell_type": "markdown",
   "metadata": {},
   "source": [
    "<h1>Coursera Capstone Project</h1>\n",
    "<h1>The Battle of Neighborhoods (Week 4)</h1>"
   ]
  },
  {
   "cell_type": "markdown",
   "metadata": {},
   "source": [
    "<h1><b>Data section</b></h1>"
   ]
  },
  {
   "cell_type": "markdown",
   "metadata": {},
   "source": [
    "<h3>Question 2 - To Do</h3>\n",
    "<p>Describe the data that you will be using to solve the problem or execute your idea. Remember that you will need to use the Foursquare \n",
    "location data to solve the problem or execute your idea. You can absolutely use other datasets in combination with the Foursquare location \n",
    "data. So make sure that you provide adequate explanation and discussion, with examples, of the data that you will be using, even if it is \n",
    "only Foursquare location data.</p>"
   ]
  },
  {
   "cell_type": "code",
   "execution_count": 3,
   "metadata": {},
   "outputs": [],
   "source": [
    "# A description of the data and how it will be used to solve the problem. (15 marks)"
   ]
  },
  {
   "cell_type": "markdown",
   "metadata": {},
   "source": [
    "<h2><b>2. Data Section</b></h2>\n",
    "<h3><b>Data description and the sources used o solve the business problem.</b></h3>"
   ]
  },
  {
   "cell_type": "markdown",
   "metadata": {},
   "source": [
    "<h2><b>Description of the Data</b></h2>\n",
    "<h4>The following data is required to answer the issues of the problem:</h4>\n",
    "<ul>\n",
    "        <li>\n",
    "            List of neighborhoods of Miami, Florida with their geodata (latitude and longitude).\n",
    "        </li>\n",
    "        <li>\n",
    "           List of apartments for rent in Miami area with their addresses and price.\n",
    "        </li>\n",
    "        <li>\n",
    "            List of Subway metro stations in Miami with their relative location.\n",
    "        </li>\n",
    "         <li>\n",
    "            Preferably, a list of apartments for rent with additional information, such as price, address, area, # of beds\n",
    "        </li>\n",
    "        <li>\n",
    "            Venues for each Miami neighborhoods ( that can be clustered).\n",
    "        </li>\n",
    "        <li>\n",
    "            Venues for subway metro stations. \n",
    "        </li>\n",
    "    </ul>"
   ]
  },
  {
   "cell_type": "markdown",
   "metadata": {},
   "source": [
    "<h2><b>How data will help to solve the problem</b></h2>\n",
    "<h4>The data will be used as follows:</h4>\n",
    "<ul>\n",
    "        <li>\n",
    "        Use Foursquare and geopy data to map top 10 venues for all Miami neighborhoods and clustered in groups ( as per Course LAB).\n",
    "    </li>\n",
    "        <li>\n",
    "        Use foursquare and geopy data to map the location of metro stations , separately and on top of the above clustered map in order \n",
    "        to be able to identify the venues and amenities near each metro station, or explore each public transport location separately\n",
    "     </li>\n",
    "        <li>\n",
    "        Use Foursquare and geopy data to map the location of rental places, in some form, linked to the public transport locations.\n",
    "     </li>\n",
    "        <li>\n",
    "        Create a map that depicts, for instance, the average rental price per square ft, around a radious of (1.5 km) around each subway station - or a\n",
    "        similar metric. I will be able to quickly point to the popups to know the relative price per subway area.\n",
    "     </li>\n",
    "        <li>\n",
    "        Addresses from rental locations will be converted to geodata( lat, long) using Geopy-distance and Nominatim.\n",
    "     </li>\n",
    "        <li>\n",
    "        Data will be searched in open data sources if available, from real estate sites if open to reading, libraries or other government agencies such\n",
    "        as Metrorail, etc.\n",
    "     </li>\n",
    "    </ul>"
   ]
  },
  {
   "cell_type": "markdown",
   "metadata": {},
   "source": [
    "<h4>This will help to evaluate the decision of renting and answer the below questions:</h4>\n",
    "<ul>\n",
    "        <li>\n",
    "what is the cost of rent (per square ft) around a mile radius from each Metrorail station?\n",
    " </li>\n",
    "        <li>\n",
    "what is the area of Miami with best rental pricing that meets criteria established?\n",
    " </li>\n",
    "        <li>\n",
    "What are the venues of the two best places to live? How the prices compare?\n",
    " </li>\n",
    "        <li>\n",
    "How venues distribute among Miami neighborhoods and around metro stations?\n",
    " </li>\n",
    "        <li>\n",
    "Are there tradeoffs between size and price and location?\n",
    " </li>\n",
    "        <li>\n",
    "Any other interesting statistical data findings of the real estate and overall data.\n",
    "     </li>\n",
    "    </ul>"
   ]
  },
  {
   "cell_type": "markdown",
   "metadata": {},
   "source": [
    "<h2>Reference of venues around current residence in Maryland for comparison to Miami.</h2>"
   ]
  },
  {
   "cell_type": "code",
   "execution_count": 8,
   "metadata": {},
   "outputs": [
    {
     "name": "stdout",
     "output_type": "stream",
     "text": [
      "Requirement already satisfied: geocoder in /home/jupyterlab/conda/envs/python/lib/python3.6/site-packages (1.38.1)\n",
      "Requirement already satisfied: click in /home/jupyterlab/conda/envs/python/lib/python3.6/site-packages (from geocoder) (7.1.2)\n",
      "Requirement already satisfied: requests in /home/jupyterlab/conda/envs/python/lib/python3.6/site-packages (from geocoder) (2.23.0)\n",
      "Requirement already satisfied: ratelim in /home/jupyterlab/conda/envs/python/lib/python3.6/site-packages (from geocoder) (0.1.6)\n",
      "Requirement already satisfied: six in /home/jupyterlab/conda/envs/python/lib/python3.6/site-packages (from geocoder) (1.14.0)\n",
      "Requirement already satisfied: future in /home/jupyterlab/conda/envs/python/lib/python3.6/site-packages (from geocoder) (0.18.2)\n",
      "Requirement already satisfied: chardet<4,>=3.0.2 in /home/jupyterlab/conda/envs/python/lib/python3.6/site-packages (from requests->geocoder) (3.0.4)\n",
      "Requirement already satisfied: certifi>=2017.4.17 in /home/jupyterlab/conda/envs/python/lib/python3.6/site-packages (from requests->geocoder) (2020.4.5.1)\n",
      "Requirement already satisfied: urllib3!=1.25.0,!=1.25.1,<1.26,>=1.21.1 in /home/jupyterlab/conda/envs/python/lib/python3.6/site-packages (from requests->geocoder) (1.25.8)\n",
      "Requirement already satisfied: idna<3,>=2.5 in /home/jupyterlab/conda/envs/python/lib/python3.6/site-packages (from requests->geocoder) (2.9)\n",
      "Requirement already satisfied: decorator in /home/jupyterlab/conda/envs/python/lib/python3.6/site-packages (from ratelim->geocoder) (4.4.2)\n",
      "Collecting geopy\n",
      "\u001b[?25l  Downloading https://files.pythonhosted.org/packages/53/fc/3d1b47e8e82ea12c25203929efb1b964918a77067a874b2c7631e2ec35ec/geopy-1.21.0-py2.py3-none-any.whl (104kB)\n",
      "\u001b[K     |████████████████████████████████| 112kB 7.2MB/s eta 0:00:01\n",
      "\u001b[?25hCollecting geographiclib<2,>=1.49 (from geopy)\n",
      "  Downloading https://files.pythonhosted.org/packages/8b/62/26ec95a98ba64299163199e95ad1b0e34ad3f4e176e221c40245f211e425/geographiclib-1.50-py3-none-any.whl\n",
      "Installing collected packages: geographiclib, geopy\n",
      "Successfully installed geographiclib-1.50 geopy-1.21.0\n",
      "Requirement already satisfied: folium in /home/jupyterlab/conda/envs/python/lib/python3.6/site-packages (0.5.0)\n",
      "Requirement already satisfied: requests in /home/jupyterlab/conda/envs/python/lib/python3.6/site-packages (from folium) (2.23.0)\n",
      "Requirement already satisfied: six in /home/jupyterlab/conda/envs/python/lib/python3.6/site-packages (from folium) (1.14.0)\n",
      "Requirement already satisfied: branca in /home/jupyterlab/conda/envs/python/lib/python3.6/site-packages (from folium) (0.4.0)\n",
      "Requirement already satisfied: jinja2 in /home/jupyterlab/conda/envs/python/lib/python3.6/site-packages (from folium) (2.11.2)\n",
      "Requirement already satisfied: certifi>=2017.4.17 in /home/jupyterlab/conda/envs/python/lib/python3.6/site-packages (from requests->folium) (2020.4.5.1)\n",
      "Requirement already satisfied: chardet<4,>=3.0.2 in /home/jupyterlab/conda/envs/python/lib/python3.6/site-packages (from requests->folium) (3.0.4)\n",
      "Requirement already satisfied: urllib3!=1.25.0,!=1.25.1,<1.26,>=1.21.1 in /home/jupyterlab/conda/envs/python/lib/python3.6/site-packages (from requests->folium) (1.25.8)\n",
      "Requirement already satisfied: idna<3,>=2.5 in /home/jupyterlab/conda/envs/python/lib/python3.6/site-packages (from requests->folium) (2.9)\n",
      "Requirement already satisfied: MarkupSafe>=0.23 in /home/jupyterlab/conda/envs/python/lib/python3.6/site-packages (from jinja2->folium) (1.1.1)\n",
      "Collecting package metadata (current_repodata.json): done\n",
      "Solving environment: failed with initial frozen solve. Retrying with flexible solve.\n",
      "Collecting package metadata (repodata.json): done\n",
      "Solving environment: done\n",
      "\n",
      "## Package Plan ##\n",
      "\n",
      "  environment location: /home/jupyterlab/conda/envs/python\n",
      "\n",
      "  added / updated specs:\n",
      "    - folium=0.5.0\n",
      "\n",
      "\n",
      "The following packages will be downloaded:\n",
      "\n",
      "    package                    |            build\n",
      "    ---------------------------|-----------------\n",
      "    altair-4.1.0               |             py_1         614 KB  conda-forge\n",
      "    branca-0.4.0               |             py_0          26 KB  conda-forge\n",
      "    brotlipy-0.7.0             |py36h8c4c3a4_1000         346 KB  conda-forge\n",
      "    chardet-3.0.4              |py36h9f0ad1d_1006         188 KB  conda-forge\n",
      "    cryptography-2.9.2         |   py36h45558ae_0         613 KB  conda-forge\n",
      "    folium-0.5.0               |             py_0          45 KB  conda-forge\n",
      "    openssl-1.1.1g             |       h516909a_0         2.1 MB  conda-forge\n",
      "    pandas-1.0.3               |   py36h830a2c2_1        11.1 MB  conda-forge\n",
      "    pysocks-1.7.1              |   py36h9f0ad1d_1          27 KB  conda-forge\n",
      "    toolz-0.10.0               |             py_0          46 KB  conda-forge\n",
      "    urllib3-1.25.9             |             py_0          92 KB  conda-forge\n",
      "    vincent-0.4.4              |             py_1          28 KB  conda-forge\n",
      "    ------------------------------------------------------------\n",
      "                                           Total:        15.2 MB\n",
      "\n",
      "The following NEW packages will be INSTALLED:\n",
      "\n",
      "  altair             conda-forge/noarch::altair-4.1.0-py_1\n",
      "  attrs              conda-forge/noarch::attrs-19.3.0-py_0\n",
      "  branca             conda-forge/noarch::branca-0.4.0-py_0\n",
      "  brotlipy           conda-forge/linux-64::brotlipy-0.7.0-py36h8c4c3a4_1000\n",
      "  chardet            conda-forge/linux-64::chardet-3.0.4-py36h9f0ad1d_1006\n",
      "  cryptography       conda-forge/linux-64::cryptography-2.9.2-py36h45558ae_0\n",
      "  entrypoints        conda-forge/linux-64::entrypoints-0.3-py36h9f0ad1d_1001\n",
      "  folium             conda-forge/noarch::folium-0.5.0-py_0\n",
      "  idna               conda-forge/noarch::idna-2.9-py_1\n",
      "  importlib-metadata conda-forge/linux-64::importlib-metadata-1.6.0-py36h9f0ad1d_0\n",
      "  importlib_metadata conda-forge/noarch::importlib_metadata-1.6.0-0\n",
      "  jinja2             conda-forge/noarch::jinja2-2.11.2-pyh9f0ad1d_0\n",
      "  jsonschema         conda-forge/linux-64::jsonschema-3.2.0-py36h9f0ad1d_1\n",
      "  markupsafe         conda-forge/linux-64::markupsafe-1.1.1-py36h8c4c3a4_1\n",
      "  pandas             conda-forge/linux-64::pandas-1.0.3-py36h830a2c2_1\n",
      "  pyopenssl          conda-forge/noarch::pyopenssl-19.1.0-py_1\n",
      "  pyrsistent         conda-forge/linux-64::pyrsistent-0.16.0-py36h8c4c3a4_0\n",
      "  pysocks            conda-forge/linux-64::pysocks-1.7.1-py36h9f0ad1d_1\n",
      "  pytz               conda-forge/noarch::pytz-2019.3-py_0\n",
      "  requests           conda-forge/noarch::requests-2.23.0-pyh8c360ce_2\n",
      "  toolz              conda-forge/noarch::toolz-0.10.0-py_0\n",
      "  urllib3            conda-forge/noarch::urllib3-1.25.9-py_0\n",
      "  vincent            conda-forge/noarch::vincent-0.4.4-py_1\n",
      "  zipp               conda-forge/noarch::zipp-3.1.0-py_0\n",
      "\n",
      "The following packages will be UPDATED:\n",
      "\n",
      "  openssl                                 1.1.1f-h516909a_0 --> 1.1.1g-h516909a_0\n",
      "\n",
      "\n",
      "\n",
      "Downloading and Extracting Packages\n",
      "vincent-0.4.4        | 28 KB     | ##################################### | 100% \n",
      "pysocks-1.7.1        | 27 KB     | ##################################### | 100% \n",
      "toolz-0.10.0         | 46 KB     | ##################################### | 100% \n",
      "openssl-1.1.1g       | 2.1 MB    | ##################################### | 100% \n",
      "chardet-3.0.4        | 188 KB    | ##################################### | 100% \n",
      "folium-0.5.0         | 45 KB     | ##################################### | 100% \n",
      "urllib3-1.25.9       | 92 KB     | ##################################### | 100% \n",
      "cryptography-2.9.2   | 613 KB    | ##################################### | 100% \n",
      "brotlipy-0.7.0       | 346 KB    | ##################################### | 100% \n",
      "pandas-1.0.3         | 11.1 MB   | ##################################### | 100% \n",
      "altair-4.1.0         | 614 KB    | ##################################### | 100% \n",
      "branca-0.4.0         | 26 KB     | ##################################### | 100% \n",
      "Preparing transaction: done\n",
      "Verifying transaction: done\n",
      "Executing transaction: done\n",
      "Libraries imported.\n"
     ]
    }
   ],
   "source": [
    "import numpy as np # library to handle data in a vectorized manner\n",
    "import time\n",
    "import pandas as pd # library for data analsysis\n",
    "pd.set_option('display.max_columns', None)\n",
    "pd.set_option('display.max_rows', None)\n",
    "\n",
    "!pip install geocoder\n",
    "!pip install geopy\n",
    "import geocoder\n",
    "import os\n",
    "!pip install folium\n",
    "import folium # map rendering library\n",
    "\n",
    "import json # library to handle JSON files\n",
    "import requests # library to handle requests\n",
    "from pandas.io.json import json_normalize # tranform JSON file into a pandas dataframe\n",
    "\n",
    "from geopy.geocoders import Nominatim # convert an address into latitude and longitude values\n",
    "!conda install -c conda-forge folium=0.5.0 --yes # uncomment this line if you haven't completed the Foursquare API lab\n",
    "\n",
    "print('Libraries imported.')"
   ]
  },
  {
   "cell_type": "markdown",
   "metadata": {},
   "source": [
    "<h4>Coordinate of Maryland residence.</h4>"
   ]
  },
  {
   "cell_type": "code",
   "execution_count": 10,
   "metadata": {},
   "outputs": [
    {
     "name": "stderr",
     "output_type": "stream",
     "text": [
      "/home/jupyterlab/conda/envs/python/lib/python3.6/site-packages/ipykernel_launcher.py:3: DeprecationWarning: Using Nominatim with the default \"geopy/1.21.0\" `user_agent` is strongly discouraged, as it violates Nominatim's ToS https://operations.osmfoundation.org/policies/nominatim/ and may possibly cause 403 and 429 HTTP errors. Please specify a custom `user_agent` with `Nominatim(user_agent=\"my-application\")` or by overriding the default `user_agent`: `geopy.geocoders.options.default_user_agent = \"my-application\"`. In geopy 2.0 this will become an exception.\n",
      "  This is separate from the ipykernel package so we can avoid doing imports until\n"
     ]
    },
    {
     "name": "stdout",
     "output_type": "stream",
     "text": [
      "The geograpical coordinate of Maryland residence are 39.4010753, -76.796299.\n"
     ]
    }
   ],
   "source": [
    "# Owings Mills, Maryland 21112 United States of America\n",
    "address = 'Owings Mills, Maryland'\n",
    "geolocator = Nominatim()\n",
    "location = geolocator.geocode(address)\n",
    "latitude = location.latitude\n",
    "longitude = location.longitude\n",
    "print('The geograpical coordinate of Maryland residence are {}, {}.'.format(latitude, longitude))"
   ]
  },
  {
   "cell_type": "code",
   "execution_count": 11,
   "metadata": {},
   "outputs": [],
   "source": [
    "neighborhood_latitude= 39.4010753\n",
    "neighborhood_longitude = -76.796299"
   ]
  },
  {
   "cell_type": "code",
   "execution_count": 13,
   "metadata": {},
   "outputs": [
    {
     "name": "stdout",
     "output_type": "stream",
     "text": [
      "Your credentails:\n",
      "CLIENT_ID: LE31KB1HNQNMQCVJWAI50CEALQI4AN4G5MEV3MCZXK0FSLGD\n",
      "CLIENT_SECRET: WI1QAVFE1N5RREOTPET0C4QQTI4ZMK41MDG4ZHE1BABJP4KW\n"
     ]
    }
   ],
   "source": [
    "LIMIT = 100 # limit of number of venues returned by Foursquare API\n",
    "radius = 500 # define radius\n",
    "CLIENT_ID = 'LE31KB1HNQNMQCVJWAI50CEALQI4AN4G5MEV3MCZXK0FSLGD' # My Foursquare ID\n",
    "CLIENT_SECRET = 'WI1QAVFE1N5RREOTPET0C4QQTI4ZMK41MDG4ZHE1BABJP4KW' # My Foursquare Secret\n",
    "VERSION = '20180604'\n",
    "print('Your credentails:')\n",
    "print('CLIENT_ID: ' + CLIENT_ID)\n",
    "print('CLIENT_SECRET: ' + CLIENT_SECRET)"
   ]
  },
  {
   "cell_type": "code",
   "execution_count": 15,
   "metadata": {},
   "outputs": [
    {
     "data": {
      "text/plain": [
       "'https://api.foursquare.com/v2/venues/explore?&client_id=LE31KB1HNQNMQCVJWAI50CEALQI4AN4G5MEV3MCZXK0FSLGD&client_secret=WI1QAVFE1N5RREOTPET0C4QQTI4ZMK41MDG4ZHE1BABJP4KW&v=20180604&ll=39.4010753,-76.796299&radius=500&limit=100'"
      ]
     },
     "execution_count": 15,
     "metadata": {},
     "output_type": "execute_result"
    }
   ],
   "source": [
    "url= 'https://api.foursquare.com/v2/venues/explore?&client_id=LE31KB1HNQNMQCVJWAI50CEALQI4AN4G5MEV3MCZXK0FSLGD&client_secret=WI1QAVFE1N5RREOTPET0C4QQTI4ZMK41MDG4ZHE1BABJP4KW&v=20180604&ll=39.4010753,-76.796299&radius=500&limit=100'\n",
    "url # display URL"
   ]
  },
  {
   "cell_type": "code",
   "execution_count": 18,
   "metadata": {},
   "outputs": [],
   "source": [
    "results = requests.get(url).json()\n",
    "#results"
   ]
  },
  {
   "cell_type": "markdown",
   "metadata": {},
   "source": [
    "<h4>Function that extracts the category of the venues near Owings Mills from the Foursquare lab.</h4>"
   ]
  },
  {
   "cell_type": "code",
   "execution_count": 19,
   "metadata": {},
   "outputs": [],
   "source": [
    "# function that extracts the category of the venue\n",
    "def get_category_type(row):\n",
    "    try:\n",
    "        categories_list = row['categories']\n",
    "    except:\n",
    "        categories_list = row['venue.categories']\n",
    "        \n",
    "    if len(categories_list) == 0:\n",
    "        return None\n",
    "    else:\n",
    "        return categories_list[0]['name']"
   ]
  },
  {
   "cell_type": "code",
   "execution_count": 20,
   "metadata": {},
   "outputs": [
    {
     "name": "stderr",
     "output_type": "stream",
     "text": [
      "/home/jupyterlab/conda/envs/python/lib/python3.6/site-packages/ipykernel_launcher.py:3: FutureWarning: pandas.io.json.json_normalize is deprecated, use pandas.json_normalize instead\n",
      "  This is separate from the ipykernel package so we can avoid doing imports until\n"
     ]
    },
    {
     "data": {
      "text/html": [
       "<div>\n",
       "<style scoped>\n",
       "    .dataframe tbody tr th:only-of-type {\n",
       "        vertical-align: middle;\n",
       "    }\n",
       "\n",
       "    .dataframe tbody tr th {\n",
       "        vertical-align: top;\n",
       "    }\n",
       "\n",
       "    .dataframe thead th {\n",
       "        text-align: right;\n",
       "    }\n",
       "</style>\n",
       "<table border=\"1\" class=\"dataframe\">\n",
       "  <thead>\n",
       "    <tr style=\"text-align: right;\">\n",
       "      <th></th>\n",
       "      <th>name</th>\n",
       "      <th>categories</th>\n",
       "      <th>lat</th>\n",
       "      <th>lng</th>\n",
       "    </tr>\n",
       "  </thead>\n",
       "  <tbody>\n",
       "    <tr>\n",
       "      <th>0</th>\n",
       "      <td>Taj Palace Owings MIlls</td>\n",
       "      <td>North Indian Restaurant</td>\n",
       "      <td>39.399413</td>\n",
       "      <td>-76.800307</td>\n",
       "    </tr>\n",
       "    <tr>\n",
       "      <th>1</th>\n",
       "      <td>Artful Gourmet Bistro</td>\n",
       "      <td>New American Restaurant</td>\n",
       "      <td>39.399300</td>\n",
       "      <td>-76.801364</td>\n",
       "    </tr>\n",
       "    <tr>\n",
       "      <th>2</th>\n",
       "      <td>Asian Kitchen</td>\n",
       "      <td>Asian Restaurant</td>\n",
       "      <td>39.399578</td>\n",
       "      <td>-76.799104</td>\n",
       "    </tr>\n",
       "    <tr>\n",
       "      <th>3</th>\n",
       "      <td>Red Robin Gourmet Burgers and Brews</td>\n",
       "      <td>Burger Joint</td>\n",
       "      <td>39.403242</td>\n",
       "      <td>-76.794221</td>\n",
       "    </tr>\n",
       "    <tr>\n",
       "      <th>4</th>\n",
       "      <td>Yuki Sushi</td>\n",
       "      <td>Sushi Restaurant</td>\n",
       "      <td>39.399449</td>\n",
       "      <td>-76.799871</td>\n",
       "    </tr>\n",
       "    <tr>\n",
       "      <th>5</th>\n",
       "      <td>Olive Garden</td>\n",
       "      <td>Italian Restaurant</td>\n",
       "      <td>39.404531</td>\n",
       "      <td>-76.793403</td>\n",
       "    </tr>\n",
       "    <tr>\n",
       "      <th>6</th>\n",
       "      <td>Brookside's Pizzeria, The Original NY Pizza Co.</td>\n",
       "      <td>Pizza Place</td>\n",
       "      <td>39.399343</td>\n",
       "      <td>-76.800756</td>\n",
       "    </tr>\n",
       "    <tr>\n",
       "      <th>7</th>\n",
       "      <td>Baskin-Robbins</td>\n",
       "      <td>Ice Cream Shop</td>\n",
       "      <td>39.399234</td>\n",
       "      <td>-76.799813</td>\n",
       "    </tr>\n",
       "    <tr>\n",
       "      <th>8</th>\n",
       "      <td>APlus at Sunoco</td>\n",
       "      <td>Coffee Shop</td>\n",
       "      <td>39.400044</td>\n",
       "      <td>-76.798403</td>\n",
       "    </tr>\n",
       "    <tr>\n",
       "      <th>9</th>\n",
       "      <td>New York &amp; Company</td>\n",
       "      <td>Women's Store</td>\n",
       "      <td>39.399051</td>\n",
       "      <td>-76.793292</td>\n",
       "    </tr>\n",
       "  </tbody>\n",
       "</table>\n",
       "</div>"
      ],
      "text/plain": [
       "                                              name               categories  \\\n",
       "0                          Taj Palace Owings MIlls  North Indian Restaurant   \n",
       "1                            Artful Gourmet Bistro  New American Restaurant   \n",
       "2                                    Asian Kitchen         Asian Restaurant   \n",
       "3              Red Robin Gourmet Burgers and Brews             Burger Joint   \n",
       "4                                       Yuki Sushi         Sushi Restaurant   \n",
       "5                                     Olive Garden       Italian Restaurant   \n",
       "6  Brookside's Pizzeria, The Original NY Pizza Co.              Pizza Place   \n",
       "7                                   Baskin-Robbins           Ice Cream Shop   \n",
       "8                                  APlus at Sunoco              Coffee Shop   \n",
       "9                               New York & Company            Women's Store   \n",
       "\n",
       "         lat        lng  \n",
       "0  39.399413 -76.800307  \n",
       "1  39.399300 -76.801364  \n",
       "2  39.399578 -76.799104  \n",
       "3  39.403242 -76.794221  \n",
       "4  39.399449 -76.799871  \n",
       "5  39.404531 -76.793403  \n",
       "6  39.399343 -76.800756  \n",
       "7  39.399234 -76.799813  \n",
       "8  39.400044 -76.798403  \n",
       "9  39.399051 -76.793292  "
      ]
     },
     "execution_count": 20,
     "metadata": {},
     "output_type": "execute_result"
    }
   ],
   "source": [
    "venues = results['response']['groups'][0]['items']\n",
    "    \n",
    "SBnearby_venues = json_normalize(venues) # flatten JSON\n",
    "\n",
    "# filter columns\n",
    "filtered_columns = ['venue.name', 'venue.categories', 'venue.location.lat', 'venue.location.lng']\n",
    "SBnearby_venues =SBnearby_venues.loc[:, filtered_columns]\n",
    "\n",
    "# filter the category for each row\n",
    "SBnearby_venues['venue.categories'] = SBnearby_venues.apply(get_category_type, axis=1)\n",
    "\n",
    "# clean columns\n",
    "SBnearby_venues.columns = [col.split(\".\")[-1] for col in SBnearby_venues.columns]\n",
    "\n",
    "SBnearby_venues.head(10)"
   ]
  },
  {
   "cell_type": "markdown",
   "metadata": {},
   "source": [
    "<h4>Map of Owings Mills in Maryland with venues near residence place - for project reference</h4>"
   ]
  },
  {
   "cell_type": "code",
   "execution_count": 21,
   "metadata": {},
   "outputs": [
    {
     "data": {
      "text/html": [
       "<div style=\"width:100%;\"><div style=\"position:relative;width:100%;height:0;padding-bottom:60%;\"><iframe src=\"about:blank\" style=\"position:absolute;width:100%;height:100%;left:0;top:0;border:none !important;\" data-html=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 onload=\"this.contentDocument.open();this.contentDocument.write(atob(this.getAttribute('data-html')));this.contentDocument.close();\" allowfullscreen webkitallowfullscreen mozallowfullscreen></iframe></div></div>"
      ],
      "text/plain": [
       "<folium.folium.Map at 0x7fa941e9aa58>"
      ]
     },
     "execution_count": 21,
     "metadata": {},
     "output_type": "execute_result"
    }
   ],
   "source": [
    "\n",
    "# create map of Southbank Melbourne using latitude and longitude values\n",
    "map_sb = folium.Map(location=[latitude, longitude], zoom_start=20)\n",
    "\n",
    "# add markers to map\n",
    "for lat, lng, label in zip(SBnearby_venues['lat'], SBnearby_venues['lng'], SBnearby_venues['name']):\n",
    "    label = folium.Popup(label, parse_html=True)\n",
    "    folium.RegularPolygonMarker(\n",
    "        [lat, lng],\n",
    "        number_of_sides=4,\n",
    "        radius=10,\n",
    "        popup=label,\n",
    "        color='blue',\n",
    "        fill_color='#0f0f0f',\n",
    "        fill_opacity=0.7,\n",
    "    ).add_to(map_sb)  \n",
    "    \n",
    "map_sb"
   ]
  },
  {
   "cell_type": "code",
   "execution_count": null,
   "metadata": {},
   "outputs": [],
   "source": []
  }
 ],
 "metadata": {
  "kernelspec": {
   "display_name": "Python",
   "language": "python",
   "name": "conda-env-python-py"
  },
  "language_info": {
   "codemirror_mode": {
    "name": "ipython",
    "version": 3
   },
   "file_extension": ".py",
   "mimetype": "text/x-python",
   "name": "python",
   "nbconvert_exporter": "python",
   "pygments_lexer": "ipython3",
   "version": "3.6.10"
  }
 },
 "nbformat": 4,
 "nbformat_minor": 4
}
